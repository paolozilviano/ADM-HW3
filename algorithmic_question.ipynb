{
 "cells": [
  {
   "cell_type": "markdown",
   "metadata": {},
   "source": [
    "### **1. Implement a code to answer the problem above.** \n",
    "\n",
    "To solve this exercise, we used Dynamic programming. Firstly, let's define the data for this problem:\n",
    "- _numDays_: total number of days worked\n",
    "- _sumHours_: total working hours\n",
    "- _daysArray_: array containing the minimum and maximum hours for each day\n",
    "\n",
    "To solve the problem, we defined a two-dimensional array **dp** where each entry _dp[i][j]_ indicates whether it's possible to exactly allocate j hours up to the i-th day, while respecting the constraints of minimum and maximum hours for each day. The formula to compute it is:\n",
    "\n",
    "_dp[i][j] = k such that {minHours[i] ≤ k ≤ min(j, maxHours[i]) and dp[i−1][j−k] is valid}_\n",
    "\n",
    "Initially, all possible values of dp were initialized to -1 so that they are modified only if there exists a possible solution for those values. Finally, if dp[numDays][sumHours] has a value != -1, then it will be possible to achieve exactly sumHours using the first numDays days, meaning the algorithm has found a possible solution for the problem. \n",
    "The first value of the array is initialized with dp[0][0] = 0 (indicating that on day 0, 0 hours were worked).\n",
    "\n",
    "Here's the requested code:\n"
   ]
  },
  {
   "cell_type": "code",
   "execution_count": 5,
   "metadata": {},
   "outputs": [
    {
     "name": "stdout",
     "output_type": "stream",
     "text": [
      "Number of days worked and total hours: 2 5\n",
      "Min and max hours for each day [(1, 2), (2, 4)]\n",
      "YES\n",
      "2 3\n"
     ]
    }
   ],
   "source": [
    "def generate_report(num_days, sum_hours, days_array):\n",
    "    # Initializing the two-dimensional array and initializing the value for day 0\n",
    "    dp = [[-1] * (sum_hours + 1) for _ in range(num_days + 1)]\n",
    "    dp[0][0] = 0\n",
    "\n",
    "    # Extracting all the min and max hours from the various days\n",
    "    min_hours = [min_hours for min_hours, _ in days_array]\n",
    "    max_hours = [max_hours for _, max_hours in days_array]\n",
    "\n",
    "    result = [0] * num_days\n",
    "\n",
    "    # Iterate through each day i\n",
    "    for i in range(1, num_days + 1):\n",
    "        # Iterate through all possible hour sums from 0 to sum_hours for the first i days\n",
    "        for j in range(sum_hours + 1):\n",
    "            # Iterate through all possible hours worked (k) for day i\n",
    "            for k in range(min_hours[i - 1], min(j, max_hours[i - 1]) + 1):\n",
    "                # if the previous day's hour sum (j - k) is reachable, store the result\n",
    "                if dp[i - 1][j - k] != -1:\n",
    "                    dp[i][j] = k\n",
    "                    result[i - 1] = k\n",
    "                    break\n",
    "\n",
    "    # If dp[num_days][sum_hours] is still -1, no valid solution has been found for the given data\n",
    "    if dp[num_days][sum_hours] == -1:\n",
    "        print(\"NO\")\n",
    "    else:\n",
    "        print(\"YES\")\n",
    "        print(*result)\n",
    "    \n",
    "if __name__ == \"__main__\":\n",
    "    # Input from console\n",
    "    numDays, sumHours = map(int, input().split())\n",
    "\n",
    "    daysArray = []\n",
    "\n",
    "    for _ in range(numDays):\n",
    "        min_hours, max_hours = map(int, input().split())\n",
    "        daysArray.append((min_hours, max_hours))\n",
    "\n",
    "    # Verifing received data \n",
    "    print(\"Number of days worked and total hours:\", numDays, sumHours)\n",
    "    print(\"Min and max hours for each day\", daysArray)\n",
    "\n",
    "    generate_report(numDays, sumHours, daysArray)\n"
   ]
  },
  {
   "cell_type": "markdown",
   "metadata": {},
   "source": [
    "### **2. What is the time complexity (the Big O notation) of your solution? Please provide a detailed explanation of how you calculated the time complexity.** "
   ]
  },
  {
   "cell_type": "markdown",
   "metadata": {},
   "source": [
    "Let’s analyze the time complexity of the defined function. Firstly, we’ll define the two inputs *numDays* and *sumHours* as *n* and *m*. In the code, the lines that don't have constant time O(1) are:\n",
    "\n",
    "1.\tThe line:\n",
    "```\n",
    "dp = [[-1] * (sum_hours + 1) for _ in range(num_days + 1)]\n",
    "```\n",
    "This line iterates through num_days + 1 rows and sum_hours + 1 columns. So the number loops depends on both of the inputs n and m. Thus, the number of iterations are O(n*m)\n",
    "\n",
    "2.\tThe lines:\n",
    "```\n",
    "min_hours = [min_hours for min_hours, _ in days_array]\n",
    "max_hours = [max_hours for _, max_hours in days_array]\n",
    "```\n",
    "These lines both take O(m) because the loop is executed as many times as the total number of days worked.\n",
    "\n",
    "3.\tFinally, the lines:\n",
    "\n",
    "```\n",
    "for i in range(1, num_days + 1):\n",
    "     for j in range(sum_hours + 1):\n",
    "          for k in range(min_hours[i - 1], min(j, max_hours[i - 1]) + 1):\n",
    "               if dp[i - 1][j - k] != -1:\n",
    "                    dp[i][j] = k\n",
    "                    result[i - 1] = k\n",
    "                    break\n",
    "```\n",
    "\n",
    "In these nested loops the outmost takes *O(n)*, the second takes *O(m)*, and the third takes *O(max_hours – min_hours)*. The innermost loop varies based on the differences between max_hours and min_hours for each day. In the worst case, it can iterate from min_hours[i - 1] to min(j, max_hours[i - 1]) + 1. The maximum difference between max_hours and min_hours is independent from both n and m and potentially could have a value much larger than these two, so it cannot be approximated to neither sum_hours nor num_days.\n",
    "\n",
    "The operations within all these loops are *O(1)* and can be omitted in the calculation of time complexity.\n",
    "\n",
    "So, in total, the complexity is O(nm) + O(m) + O(m) + O(nm(max_hours – min_hours)) = **O(nm(max_hours – min_hours))**. Therefore, we can conclude that the complexity for this function is linear.\n"
   ]
  },
  {
   "cell_type": "markdown",
   "metadata": {},
   "source": [
    "### **3. Ask ChatGPT or any other LLM chatbot tool to check your code's time complexity (the Big O notation). Compare your answer to theirs. Do you believe this is correct? If the two differ, which one is right? (why?)** "
   ]
  },
  {
   "cell_type": "markdown",
   "metadata": {},
   "source": [
    "This is the prompt for ChatGPT 3.5:\n",
    "\"check my code time complexity (Big-O notation): (code)\"\n",
    "\n",
    "Below is the answer to the prompt:"
   ]
  },
  {
   "cell_type": "markdown",
   "metadata": {},
   "source": [
    "Let's break down the time complexity of the provided code:\n",
    "\n",
    "1. **Initializing the 2D array 'dp'**:\n",
    "\n",
    "The creation of a 2D array **'dp'** involves **'num_days'** iterations in the outer loop, and within each iteration, it fills an array of **'sum_hours + 1'** elements. So, it's $O(\\text{num\\_days} \\times \\text{sum\\_hours})$ .\n",
    "\n",
    "2. **Extracting 'min_hours' and 'max_hours':**\n",
    "\n",
    "The loop to extract **'min_hours'** and **'max_hours'** from **'days_array'** goes through all entries, making it $O(\\text{num\\_days})$.\n",
    "\n",
    "3. **Nested loops:**\n",
    "\n",
    "The nested loops have three levels:\n",
    "- The outer loop iterates through **'num_days'** iterations.\n",
    "- The second loop iterates **'sum_hours + 1'** times.\n",
    "- The innermost loop varies depending on the difference between **'max_hours'** and **'min_hours'** for each day. Its complexity can be up to $O(\\text{max\\_hours} - \\text{min\\_hours})$.\n",
    "\n",
    "The total time complexity of the nested loops is around $O(\\text{num\\_days} \\times \\text{sum\\_hours} \\times (\\text{max\\_hours} - \\text{min\\_hours}))$.\n",
    "\n",
    "The overall time complexity is the sum of these complexities:\n",
    "\n",
    "$O(\\text{num\\_days} \\times \\text{sum\\_hours}) + O(\\text{num\\_days}) + O(\\text{num\\_days} \\times \\text{sum\\_hours} \\times (\\text{max\\_hours} - \\text{min\\_hours}))$\n",
    "\n",
    "Therefore, the dominant term in this case is $O(\\text{num\\_days} \\times \\text{sum\\_hours} \\times (\\text{max\\_hours} - \\text{min\\_hours}))$, determining the code's time complexity."
   ]
  },
  {
   "cell_type": "markdown",
   "metadata": {},
   "source": [
    "The response given by ChatGPT is similar to our personal analysis of the time complexity. I believe both of these are correct and give a good approximation of the time complexity of the function."
   ]
  },
  {
   "cell_type": "markdown",
   "metadata": {},
   "source": [
    "### **4. What do you think of the optimality of your code? Do you believe it is optimal? Can you improve? Please elaborate on your response.** "
   ]
  },
  {
   "cell_type": "markdown",
   "metadata": {},
   "source": [
    "The time complexity analysis indicates that the code should already have a relatively good running time. However, there is still room for improvement; For example, the best way to optimize the code would be to work on the nested loops, trying to reduce the number of iterations and in general to improve the logic of these loops. \n",
    "Regarding space utilization, using another more efficient data structure to store the intermediate results could reduce memory usage, since it could take a big amount of memory for big inputs. \n"
   ]
  }
 ],
 "metadata": {
  "kernelspec": {
   "display_name": "Python 3",
   "language": "python",
   "name": "python3"
  },
  "language_info": {
   "codemirror_mode": {
    "name": "ipython",
    "version": 3
   },
   "file_extension": ".py",
   "mimetype": "text/x-python",
   "name": "python",
   "nbconvert_exporter": "python",
   "pygments_lexer": "ipython3",
   "version": "3.11.2"
  }
 },
 "nbformat": 4,
 "nbformat_minor": 2
}
